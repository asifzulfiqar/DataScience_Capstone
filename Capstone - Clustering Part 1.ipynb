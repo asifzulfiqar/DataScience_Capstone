{
    "nbformat_minor": 1, 
    "cells": [
        {
            "execution_count": 3, 
            "cell_type": "code", 
            "metadata": {}, 
            "outputs": [], 
            "source": "import numpy as np # library to handle data in a vectorized manner\nimport pandas as pd # library for data analsysis\nimport json # library to handle JSON files"
        }, 
        {
            "execution_count": 7, 
            "cell_type": "code", 
            "metadata": {}, 
            "outputs": [], 
            "source": "from bs4 import BeautifulSoup\nimport requests\nwikiweb_link=\"https://en.wikipedia.org/wiki/List_of_postal_codes_of_Canada:_M\"\nsource=requests.get(wikiweb_link).text"
        }, 
        {
            "execution_count": 9, 
            "cell_type": "code", 
            "metadata": {}, 
            "outputs": [], 
            "source": "soup=BeautifulSoup(source,'lxml')"
        }, 
        {
            "execution_count": 11, 
            "cell_type": "code", 
            "metadata": {}, 
            "outputs": [], 
            "source": "citytable=soup.find('table',class_=\"wikitable sortable\")\ndfcity = pd.read_html(str(citytable), header=0)[0]"
        }, 
        {
            "execution_count": 22, 
            "cell_type": "code", 
            "metadata": {}, 
            "outputs": [], 
            "source": "dfcity['Postcode'] = dfcity['Postcode'].astype(str)\ndfcity['Borough'] = dfcity['Borough'].astype(str)\ndfcity['Neighbourhood'] = dfcity['Neighbourhood'].astype(str)"
        }, 
        {
            "execution_count": 24, 
            "cell_type": "code", 
            "metadata": {}, 
            "outputs": [
                {
                    "execution_count": 24, 
                    "metadata": {}, 
                    "data": {
                        "text/html": "<div>\n<style scoped>\n    .dataframe tbody tr th:only-of-type {\n        vertical-align: middle;\n    }\n\n    .dataframe tbody tr th {\n        vertical-align: top;\n    }\n\n    .dataframe thead th {\n        text-align: right;\n    }\n</style>\n<table border=\"1\" class=\"dataframe\">\n  <thead>\n    <tr style=\"text-align: right;\">\n      <th></th>\n      <th>Postcode</th>\n      <th>Borough</th>\n      <th>Neighbourhood</th>\n    </tr>\n  </thead>\n  <tbody>\n    <tr>\n      <th>0</th>\n      <td>M1A</td>\n      <td>Not assigned</td>\n      <td>Not assigned</td>\n    </tr>\n    <tr>\n      <th>1</th>\n      <td>M2A</td>\n      <td>Not assigned</td>\n      <td>Not assigned</td>\n    </tr>\n    <tr>\n      <th>2</th>\n      <td>M3A</td>\n      <td>North York</td>\n      <td>Parkwoods</td>\n    </tr>\n    <tr>\n      <th>3</th>\n      <td>M4A</td>\n      <td>North York</td>\n      <td>Victoria Village</td>\n    </tr>\n    <tr>\n      <th>4</th>\n      <td>M5A</td>\n      <td>Downtown Toronto</td>\n      <td>Harbourfront</td>\n    </tr>\n  </tbody>\n</table>\n</div>", 
                        "text/plain": "  Postcode           Borough     Neighbourhood\n0      M1A      Not assigned      Not assigned\n1      M2A      Not assigned      Not assigned\n2      M3A        North York         Parkwoods\n3      M4A        North York  Victoria Village\n4      M5A  Downtown Toronto      Harbourfront"
                    }, 
                    "output_type": "execute_result"
                }
            ], 
            "source": "dfcity.head()"
        }, 
        {
            "execution_count": 28, 
            "cell_type": "code", 
            "metadata": {}, 
            "outputs": [
                {
                    "execution_count": 28, 
                    "metadata": {}, 
                    "data": {
                        "text/html": "<div>\n<style scoped>\n    .dataframe tbody tr th:only-of-type {\n        vertical-align: middle;\n    }\n\n    .dataframe tbody tr th {\n        vertical-align: top;\n    }\n\n    .dataframe thead th {\n        text-align: right;\n    }\n</style>\n<table border=\"1\" class=\"dataframe\">\n  <thead>\n    <tr style=\"text-align: right;\">\n      <th></th>\n      <th>Postcode</th>\n      <th>Borough</th>\n      <th>Neighbourhood</th>\n    </tr>\n  </thead>\n  <tbody>\n    <tr>\n      <th>2</th>\n      <td>M3A</td>\n      <td>North York</td>\n      <td>Parkwoods</td>\n    </tr>\n    <tr>\n      <th>3</th>\n      <td>M4A</td>\n      <td>North York</td>\n      <td>Victoria Village</td>\n    </tr>\n    <tr>\n      <th>4</th>\n      <td>M5A</td>\n      <td>Downtown Toronto</td>\n      <td>Harbourfront</td>\n    </tr>\n    <tr>\n      <th>5</th>\n      <td>M5A</td>\n      <td>Downtown Toronto</td>\n      <td>Regent Park</td>\n    </tr>\n    <tr>\n      <th>6</th>\n      <td>M6A</td>\n      <td>North York</td>\n      <td>Lawrence Heights</td>\n    </tr>\n  </tbody>\n</table>\n</div>", 
                        "text/plain": "  Postcode           Borough     Neighbourhood\n2      M3A        North York         Parkwoods\n3      M4A        North York  Victoria Village\n4      M5A  Downtown Toronto      Harbourfront\n5      M5A  Downtown Toronto       Regent Park\n6      M6A        North York  Lawrence Heights"
                    }, 
                    "output_type": "execute_result"
                }
            ], 
            "source": "dfcity=dfcity.drop(dfcity[dfcity.Borough=='Not assigned'].index)\ndfcity.head()"
        }, 
        {
            "execution_count": 32, 
            "cell_type": "code", 
            "metadata": {}, 
            "outputs": [
                {
                    "execution_count": 32, 
                    "metadata": {}, 
                    "data": {
                        "text/html": "<div>\n<style scoped>\n    .dataframe tbody tr th:only-of-type {\n        vertical-align: middle;\n    }\n\n    .dataframe tbody tr th {\n        vertical-align: top;\n    }\n\n    .dataframe thead th {\n        text-align: right;\n    }\n</style>\n<table border=\"1\" class=\"dataframe\">\n  <thead>\n    <tr style=\"text-align: right;\">\n      <th></th>\n      <th>Postcode</th>\n      <th>Borough</th>\n      <th>Neighbourhood</th>\n    </tr>\n  </thead>\n  <tbody>\n    <tr>\n      <th>0</th>\n      <td>M1B</td>\n      <td>Scarborough</td>\n      <td>Rouge,Malvern</td>\n    </tr>\n    <tr>\n      <th>1</th>\n      <td>M1C</td>\n      <td>Scarborough</td>\n      <td>Highland Creek,Rouge Hill,Port Union</td>\n    </tr>\n    <tr>\n      <th>2</th>\n      <td>M1E</td>\n      <td>Scarborough</td>\n      <td>Guildwood,Morningside,West Hill</td>\n    </tr>\n    <tr>\n      <th>3</th>\n      <td>M1G</td>\n      <td>Scarborough</td>\n      <td>Woburn</td>\n    </tr>\n    <tr>\n      <th>4</th>\n      <td>M1H</td>\n      <td>Scarborough</td>\n      <td>Cedarbrae</td>\n    </tr>\n  </tbody>\n</table>\n</div>", 
                        "text/plain": "  Postcode      Borough                         Neighbourhood\n0      M1B  Scarborough                         Rouge,Malvern\n1      M1C  Scarborough  Highland Creek,Rouge Hill,Port Union\n2      M1E  Scarborough       Guildwood,Morningside,West Hill\n3      M1G  Scarborough                                Woburn\n4      M1H  Scarborough                             Cedarbrae"
                    }, 
                    "output_type": "execute_result"
                }
            ], 
            "source": "dfcity=dfcity.groupby(['Postcode',\"Borough\"])[\"Neighbourhood\"].apply(lambda x: ','.join(x)).reset_index()\ndfcity.head()"
        }, 
        {
            "execution_count": 35, 
            "cell_type": "code", 
            "metadata": {}, 
            "outputs": [
                {
                    "execution_count": 35, 
                    "metadata": {}, 
                    "data": {
                        "text/html": "<div>\n<style scoped>\n    .dataframe tbody tr th:only-of-type {\n        vertical-align: middle;\n    }\n\n    .dataframe tbody tr th {\n        vertical-align: top;\n    }\n\n    .dataframe thead th {\n        text-align: right;\n    }\n</style>\n<table border=\"1\" class=\"dataframe\">\n  <thead>\n    <tr style=\"text-align: right;\">\n      <th></th>\n      <th>Postcode</th>\n      <th>Borough</th>\n      <th>Neighbourhood</th>\n    </tr>\n  </thead>\n  <tbody>\n    <tr>\n      <th>85</th>\n      <td>M7A</td>\n      <td>Queen's Park</td>\n      <td>Queen's Park</td>\n    </tr>\n  </tbody>\n</table>\n</div>", 
                        "text/plain": "   Postcode       Borough Neighbourhood\n85      M7A  Queen's Park  Queen's Park"
                    }, 
                    "output_type": "execute_result"
                }
            ], 
            "source": "dfcity['Neighbourhood'].loc[dfcity['Neighbourhood'].str.contains('Not assigned')]=dfcity['Borough']\n\nwiwi=dfcity[dfcity['Postcode'].str.contains('M7A')]\nwiwi"
        }, 
        {
            "execution_count": 36, 
            "cell_type": "code", 
            "metadata": {}, 
            "outputs": [
                {
                    "execution_count": 36, 
                    "metadata": {}, 
                    "data": {
                        "text/plain": "(103, 3)"
                    }, 
                    "output_type": "execute_result"
                }
            ], 
            "source": "dfcity.shape"
        }, 
        {
            "execution_count": 72, 
            "cell_type": "code", 
            "metadata": {}, 
            "outputs": [], 
            "source": "from geopy.geocoders import Nominatim"
        }, 
        {
            "execution_count": 73, 
            "cell_type": "code", 
            "metadata": {}, 
            "outputs": [
                {
                    "execution_count": 73, 
                    "metadata": {}, 
                    "data": {
                        "text/html": "<div>\n<style scoped>\n    .dataframe tbody tr th:only-of-type {\n        vertical-align: middle;\n    }\n\n    .dataframe tbody tr th {\n        vertical-align: top;\n    }\n\n    .dataframe thead th {\n        text-align: right;\n    }\n</style>\n<table border=\"1\" class=\"dataframe\">\n  <thead>\n    <tr style=\"text-align: right;\">\n      <th></th>\n      <th>Postcode</th>\n      <th>Borough</th>\n      <th>Neighborhood</th>\n      <th>Latitude</th>\n      <th>Longitude</th>\n    </tr>\n  </thead>\n  <tbody>\n  </tbody>\n</table>\n</div>", 
                        "text/plain": "Empty DataFrame\nColumns: [Postcode, Borough, Neighborhood, Latitude, Longitude]\nIndex: []"
                    }, 
                    "output_type": "execute_result"
                }
            ], 
            "source": "column_names=['Postcode', 'Borough', 'Neighborhood', 'Latitude', 'Longitude']\n\nneighborhoods = pd.DataFrame(columns=column_names)\nneighborhoods"
        }, 
        {
            "execution_count": 74, 
            "cell_type": "code", 
            "metadata": {}, 
            "outputs": [
                {
                    "execution_count": 74, 
                    "metadata": {}, 
                    "data": {
                        "text/html": "<div>\n<style scoped>\n    .dataframe tbody tr th:only-of-type {\n        vertical-align: middle;\n    }\n\n    .dataframe tbody tr th {\n        vertical-align: top;\n    }\n\n    .dataframe thead th {\n        text-align: right;\n    }\n</style>\n<table border=\"1\" class=\"dataframe\">\n  <thead>\n    <tr style=\"text-align: right;\">\n      <th></th>\n      <th>Postcode</th>\n      <th>Borough</th>\n      <th>Neighborhood</th>\n      <th>Latitude</th>\n      <th>Longitude</th>\n    </tr>\n  </thead>\n  <tbody>\n    <tr>\n      <th>0</th>\n      <td>M1B</td>\n      <td>Scarborough</td>\n      <td>Rouge,Malvern</td>\n      <td>43.773077</td>\n      <td>-79.257774</td>\n    </tr>\n    <tr>\n      <th>1</th>\n      <td>M1C</td>\n      <td>Scarborough</td>\n      <td>Highland Creek,Rouge Hill,Port Union</td>\n      <td>43.773077</td>\n      <td>-79.257774</td>\n    </tr>\n    <tr>\n      <th>2</th>\n      <td>M1E</td>\n      <td>Scarborough</td>\n      <td>Guildwood,Morningside,West Hill</td>\n      <td>0.000000</td>\n      <td>0.000000</td>\n    </tr>\n    <tr>\n      <th>3</th>\n      <td>M1G</td>\n      <td>Scarborough</td>\n      <td>Woburn</td>\n      <td>0.000000</td>\n      <td>0.000000</td>\n    </tr>\n    <tr>\n      <th>4</th>\n      <td>M1H</td>\n      <td>Scarborough</td>\n      <td>Cedarbrae</td>\n      <td>0.000000</td>\n      <td>0.000000</td>\n    </tr>\n  </tbody>\n</table>\n</div>", 
                        "text/plain": "  Postcode      Borough                          Neighborhood   Latitude  \\\n0      M1B  Scarborough                         Rouge,Malvern  43.773077   \n1      M1C  Scarborough  Highland Creek,Rouge Hill,Port Union  43.773077   \n2      M1E  Scarborough       Guildwood,Morningside,West Hill   0.000000   \n3      M1G  Scarborough                                Woburn   0.000000   \n4      M1H  Scarborough                             Cedarbrae   0.000000   \n\n   Longitude  \n0 -79.257774  \n1 -79.257774  \n2   0.000000  \n3   0.000000  \n4   0.000000  "
                    }, 
                    "output_type": "execute_result"
                }
            ], 
            "source": "for data in dfcity.itertuples():\n    address = ' {0}, {1}, Ontario'.format(data[1],data[2])\n    geolocator = Nominatim(user_agent=\"foursquare_agent\")\n    location = geolocator.geocode(address)\n    #print( address)\n    try:\n        latitude = location.latitude\n        longitude = location.longitude\n    except: \n        latitude =0\n        longitude = 0\n\n        \n    neighborhoods = neighborhoods.append({'Postcode': data[1],\n                                        'Borough': data[2],\n                                        'Neighborhood': data[3],\n                                        'Latitude': latitude,\n                                        'Longitude': longitude}, ignore_index=True)\n    \nneighborhoods.head()"
        }, 
        {
            "execution_count": 75, 
            "cell_type": "code", 
            "metadata": {}, 
            "outputs": [
                {
                    "execution_count": 75, 
                    "metadata": {}, 
                    "data": {
                        "text/plain": "0.000000     85\n42.858062     4\n43.773077     2\n43.628603     2\n43.756199     1\n43.662173     1\n43.732822     1\n43.649248     1\n43.644903     1\n43.718905     1\n43.654374     1\n43.659980     1\n43.815850     1\n43.763531     1\nName: Latitude, dtype: int64"
                    }, 
                    "output_type": "execute_result"
                }
            ], 
            "source": "neighborhoods['Latitude'].value_counts()"
        }, 
        {
            "execution_count": 76, 
            "cell_type": "code", 
            "metadata": {}, 
            "outputs": [
                {
                    "output_type": "stream", 
                    "name": "stdout", 
                    "text": "--2019-04-19 04:58:25--  http://cocl.us/Geospatial_data/Geospatial_Coordinates.csv\nResolving cocl.us (cocl.us)... 169.48.113.201\nConnecting to cocl.us (cocl.us)|169.48.113.201|:80... connected.\nHTTP request sent, awaiting response... 301 Moved Permanently\nLocation: https://cocl.us/Geospatial_data/Geospatial_Coordinates.csv [following]\n--2019-04-19 04:58:25--  https://cocl.us/Geospatial_data/Geospatial_Coordinates.csv\nConnecting to cocl.us (cocl.us)|169.48.113.201|:443... connected.\nHTTP request sent, awaiting response... 301 Moved Permanently\nLocation: https://ibm.box.com/shared/static/9afzr83pps4pwf2smjjcf1y5mvgb18rr.csv [following]\n--2019-04-19 04:58:29--  https://ibm.box.com/shared/static/9afzr83pps4pwf2smjjcf1y5mvgb18rr.csv\nResolving ibm.box.com (ibm.box.com)... 107.152.27.197\nConnecting to ibm.box.com (ibm.box.com)|107.152.27.197|:443... connected.\nHTTP request sent, awaiting response... 301 Moved Permanently\nLocation: /public/static/9afzr83pps4pwf2smjjcf1y5mvgb18rr.csv [following]\n--2019-04-19 04:58:29--  https://ibm.box.com/public/static/9afzr83pps4pwf2smjjcf1y5mvgb18rr.csv\nReusing existing connection to ibm.box.com:443.\nHTTP request sent, awaiting response... 301 Moved Permanently\nLocation: https://ibm.ent.box.com/public/static/9afzr83pps4pwf2smjjcf1y5mvgb18rr.csv [following]\n--2019-04-19 04:58:29--  https://ibm.ent.box.com/public/static/9afzr83pps4pwf2smjjcf1y5mvgb18rr.csv\nResolving ibm.ent.box.com (ibm.ent.box.com)... 107.152.27.211\nConnecting to ibm.ent.box.com (ibm.ent.box.com)|107.152.27.211|:443... connected.\nHTTP request sent, awaiting response... 302 Found\nLocation: https://public.boxcloud.com/d/1/b1!qol6rkXm14AXeDmzpi2NmcfbQckcAp9JqIrmnzanlKyHRbvTenwKJuSHDuj5sNgYlrI1kU2Uu4AButHrbaAMHXur7zfmGemhhD_K59cZKTwrG_O7Y_PAxIideGsQ5t-Lpf7AEbYo8kUd8QKbbsUYDFjDcMswhXAKf9wDku2KDKnfADgOEXishQRNmLkycqn-_R67GWDUT5h3Ha7wEWapEcrUFS6q0QEU5FuYZJB6DDN_MW3JcGl4X1705qjF-NyhizGe3JyuZXJEtyZ3m1nMgLF9ilIqId3CdlCyRIUPJWiYoWyJ2eCcVizzrszcOtPG2Mc8wzVVfDfivu7XQ-r3qx4MJZgWlM0IUDOuBdtdnqKjoWGXCCVKIuk_gAvXWB2vyCWJ7sMYZDNHkT0afOh-DrYa1mLECHcD7E_lrm_rMyYi-4CRbrCZXi4GyARLCEV1Uhs_RTvmm1HuxGdXb7mI9KaVeb4VQHnKo6fSVRtRQdTUabVoZOQjW4cOX72gLTgt-KhGsD6OcSvXH27c-rT36ALNhBDxPI16oqABErlfEyNCCbpu9WUpaKx1Kdtpg2a_N1O9NIhg_T_gyx_ECoekRZWcrPsJ3FU5udKepCnsQ0ZbcC0CBXojxugTuyTTqutwamzVuC3tvyE5JxDpDh8xIHWl1s-I5uRJp65pj0wAjA1kdkmehu8Oq22Gn8C7acxBewzRPCX2bEnVvU1yyg6PNMaPp2rb7tMCfzWoN_w4TBx5zyIVWVAW2W9rvlow4y6PxKaNJbrzQqSZUGHD_JLnm5RWqLyPC_Xo2oHNu-v99-XRqbJD1asRYLWgP36UQA7ZG9U2tDQRJMMGtjoKcbV897WVckWcMikPV0DduNXOvt49U68xlVCZSM6kGuwE9UJHpwqVqwl9MWzZIn4_m6OXsHuuxOBJbm57tHeWjrPVG3FZXuhuXRV93zZusy_4Kdoj4PS_ivzDOMTSu94fKPxKlNFqZgUKIrdgEm85rmCSHqOR6vnIaNmz-WHIpcqNTxxELHvNx55BEIRg5nOri-s73kuCXh0P3xwPLUuOWoEN_tnVdg_V1BP9zUm5c1Uo4WUJA-MzCwXxMor8YcV8Ryv80w0_0W6z139_51mIYLW027RD-hR1l32jqhYMz6SdZYwJPP-qhVliRU05qG6vbWiEftj92MbkI4CH7Mug8RV2y5rfo5sp5s35-1D1ZYzUQClheD2gV7LxYuLMTOH03ujsdJ__X7NCrzE-wUl42u8vP0b55VKVJI0SgQk8ioZGazKT312APzpFHtraD55ceuaqRc1lSA7ZYs4azcOhKFNpD8omLicI5GIlhgRIBu0WR8dseA-dLGkT1xZSMJsoFPgkMzEk5SPAnSL3AMrAggDFr8SJSzGKU65P4Q../download [following]\n--2019-04-19 04:58:30--  https://public.boxcloud.com/d/1/b1!qol6rkXm14AXeDmzpi2NmcfbQckcAp9JqIrmnzanlKyHRbvTenwKJuSHDuj5sNgYlrI1kU2Uu4AButHrbaAMHXur7zfmGemhhD_K59cZKTwrG_O7Y_PAxIideGsQ5t-Lpf7AEbYo8kUd8QKbbsUYDFjDcMswhXAKf9wDku2KDKnfADgOEXishQRNmLkycqn-_R67GWDUT5h3Ha7wEWapEcrUFS6q0QEU5FuYZJB6DDN_MW3JcGl4X1705qjF-NyhizGe3JyuZXJEtyZ3m1nMgLF9ilIqId3CdlCyRIUPJWiYoWyJ2eCcVizzrszcOtPG2Mc8wzVVfDfivu7XQ-r3qx4MJZgWlM0IUDOuBdtdnqKjoWGXCCVKIuk_gAvXWB2vyCWJ7sMYZDNHkT0afOh-DrYa1mLECHcD7E_lrm_rMyYi-4CRbrCZXi4GyARLCEV1Uhs_RTvmm1HuxGdXb7mI9KaVeb4VQHnKo6fSVRtRQdTUabVoZOQjW4cOX72gLTgt-KhGsD6OcSvXH27c-rT36ALNhBDxPI16oqABErlfEyNCCbpu9WUpaKx1Kdtpg2a_N1O9NIhg_T_gyx_ECoekRZWcrPsJ3FU5udKepCnsQ0ZbcC0CBXojxugTuyTTqutwamzVuC3tvyE5JxDpDh8xIHWl1s-I5uRJp65pj0wAjA1kdkmehu8Oq22Gn8C7acxBewzRPCX2bEnVvU1yyg6PNMaPp2rb7tMCfzWoN_w4TBx5zyIVWVAW2W9rvlow4y6PxKaNJbrzQqSZUGHD_JLnm5RWqLyPC_Xo2oHNu-v99-XRqbJD1asRYLWgP36UQA7ZG9U2tDQRJMMGtjoKcbV897WVckWcMikPV0DduNXOvt49U68xlVCZSM6kGuwE9UJHpwqVqwl9MWzZIn4_m6OXsHuuxOBJbm57tHeWjrPVG3FZXuhuXRV93zZusy_4Kdoj4PS_ivzDOMTSu94fKPxKlNFqZgUKIrdgEm85rmCSHqOR6vnIaNmz-WHIpcqNTxxELHvNx55BEIRg5nOri-s73kuCXh0P3xwPLUuOWoEN_tnVdg_V1BP9zUm5c1Uo4WUJA-MzCwXxMor8YcV8Ryv80w0_0W6z139_51mIYLW027RD-hR1l32jqhYMz6SdZYwJPP-qhVliRU05qG6vbWiEftj92MbkI4CH7Mug8RV2y5rfo5sp5s35-1D1ZYzUQClheD2gV7LxYuLMTOH03ujsdJ__X7NCrzE-wUl42u8vP0b55VKVJI0SgQk8ioZGazKT312APzpFHtraD55ceuaqRc1lSA7ZYs4azcOhKFNpD8omLicI5GIlhgRIBu0WR8dseA-dLGkT1xZSMJsoFPgkMzEk5SPAnSL3AMrAggDFr8SJSzGKU65P4Q../download\nResolving public.boxcloud.com (public.boxcloud.com)... 107.152.25.200, 107.152.24.200\nConnecting to public.boxcloud.com (public.boxcloud.com)|107.152.25.200|:443... connected.\nHTTP request sent, awaiting response... 200 OK\nLength: 2891 (2.8K) [text/csv]\nSaving to: \u2018Geospatial_Coordinates.csv\u2019\n\n100%[======================================>] 2,891       --.-K/s   in 0s      \n\n2019-04-19 04:58:30 (535 MB/s) - \u2018Geospatial_Coordinates.csv\u2019 saved [2891/2891]\n\n"
                }
            ], 
            "source": "!wget -O Geospatial_Coordinates.csv http://cocl.us/Geospatial_data/Geospatial_Coordinates.csv"
        }, 
        {
            "execution_count": 78, 
            "cell_type": "code", 
            "metadata": {}, 
            "outputs": [
                {
                    "execution_count": 78, 
                    "metadata": {}, 
                    "data": {
                        "text/html": "<div>\n<style scoped>\n    .dataframe tbody tr th:only-of-type {\n        vertical-align: middle;\n    }\n\n    .dataframe tbody tr th {\n        vertical-align: top;\n    }\n\n    .dataframe thead th {\n        text-align: right;\n    }\n</style>\n<table border=\"1\" class=\"dataframe\">\n  <thead>\n    <tr style=\"text-align: right;\">\n      <th></th>\n      <th>Postal Code</th>\n      <th>Latitude</th>\n      <th>Longitude</th>\n    </tr>\n  </thead>\n  <tbody>\n    <tr>\n      <th>0</th>\n      <td>M1B</td>\n      <td>43.806686</td>\n      <td>-79.194353</td>\n    </tr>\n    <tr>\n      <th>1</th>\n      <td>M1C</td>\n      <td>43.784535</td>\n      <td>-79.160497</td>\n    </tr>\n    <tr>\n      <th>2</th>\n      <td>M1E</td>\n      <td>43.763573</td>\n      <td>-79.188711</td>\n    </tr>\n    <tr>\n      <th>3</th>\n      <td>M1G</td>\n      <td>43.770992</td>\n      <td>-79.216917</td>\n    </tr>\n    <tr>\n      <th>4</th>\n      <td>M1H</td>\n      <td>43.773136</td>\n      <td>-79.239476</td>\n    </tr>\n  </tbody>\n</table>\n</div>", 
                        "text/plain": "  Postal Code   Latitude  Longitude\n0         M1B  43.806686 -79.194353\n1         M1C  43.784535 -79.160497\n2         M1E  43.763573 -79.188711\n3         M1G  43.770992 -79.216917\n4         M1H  43.773136 -79.239476"
                    }, 
                    "output_type": "execute_result"
                }
            ], 
            "source": "coorsourcedp = pd.read_csv(\"Geospatial_Coordinates.csv\")\ncoorsourcedp.head()"
        }, 
        {
            "execution_count": 69, 
            "cell_type": "code", 
            "metadata": {}, 
            "outputs": [
                {
                    "output_type": "stream", 
                    "name": "stdout", 
                    "text": "43.7845351\n"
                }
            ], 
            "source": "dummydf=coorsourcedp[coorsourcedp['Postal Code']=='M1C']   \ntlat=dummydf['Latitude'].values[0]\ntlong=dummydf['Longitude'].values[0]\nprint(tlat)"
        }, 
        {
            "execution_count": 70, 
            "cell_type": "code", 
            "metadata": {}, 
            "outputs": [
                {
                    "output_type": "stream", 
                    "name": "stdout", 
                    "text": "Postcode         object\nBorough          object\nNeighborhood     object\nLatitude        float64\nLongitude       float64\ndtype: object\n"
                }
            ], 
            "source": "column_names=['Postcode', 'Borough', 'Neighborhood', 'Latitude', 'Longitude']\n\n# instantiate new dataframe\nneighborhoods = pd.DataFrame(columns=column_names)\n\n# Make sure the data types are correct\nneighborhoods['Latitude'] = neighborhoods['Latitude'].astype(np.float64)\nneighborhoods['Longitude'] = neighborhoods['Longitude'].astype(np.float64)\n\ntlat=0.0\ntlong=0.0\n\nfor data in dfcity.itertuples():\n    dummydf=coorsourcedp[coorsourcedp['Postal Code']==data[1]]   \n    tlat=dummydf['Latitude'].values[0]\n    tlong=dummydf['Longitude'].values[0]\n    #print(tlat)\n    neighborhoods = neighborhoods.append({'Postcode': data[1],\n                                        'Borough': data[2],\n                                        'Neighborhood': data[3],\n                                        'Latitude': tlat,\n                                        'Longitude': tlong}, ignore_index=True)\n\nprint(neighborhoods.dtypes)"
        }, 
        {
            "execution_count": 71, 
            "cell_type": "code", 
            "metadata": {}, 
            "outputs": [
                {
                    "execution_count": 71, 
                    "metadata": {}, 
                    "data": {
                        "text/html": "<div>\n<style scoped>\n    .dataframe tbody tr th:only-of-type {\n        vertical-align: middle;\n    }\n\n    .dataframe tbody tr th {\n        vertical-align: top;\n    }\n\n    .dataframe thead th {\n        text-align: right;\n    }\n</style>\n<table border=\"1\" class=\"dataframe\">\n  <thead>\n    <tr style=\"text-align: right;\">\n      <th></th>\n      <th>Postcode</th>\n      <th>Borough</th>\n      <th>Neighborhood</th>\n      <th>Latitude</th>\n      <th>Longitude</th>\n    </tr>\n  </thead>\n  <tbody>\n    <tr>\n      <th>0</th>\n      <td>M1B</td>\n      <td>Scarborough</td>\n      <td>Rouge,Malvern</td>\n      <td>43.806686</td>\n      <td>-79.194353</td>\n    </tr>\n    <tr>\n      <th>1</th>\n      <td>M1C</td>\n      <td>Scarborough</td>\n      <td>Highland Creek,Rouge Hill,Port Union</td>\n      <td>43.784535</td>\n      <td>-79.160497</td>\n    </tr>\n    <tr>\n      <th>2</th>\n      <td>M1E</td>\n      <td>Scarborough</td>\n      <td>Guildwood,Morningside,West Hill</td>\n      <td>43.763573</td>\n      <td>-79.188711</td>\n    </tr>\n    <tr>\n      <th>3</th>\n      <td>M1G</td>\n      <td>Scarborough</td>\n      <td>Woburn</td>\n      <td>43.770992</td>\n      <td>-79.216917</td>\n    </tr>\n    <tr>\n      <th>4</th>\n      <td>M1H</td>\n      <td>Scarborough</td>\n      <td>Cedarbrae</td>\n      <td>43.773136</td>\n      <td>-79.239476</td>\n    </tr>\n    <tr>\n      <th>5</th>\n      <td>M1J</td>\n      <td>Scarborough</td>\n      <td>Scarborough Village</td>\n      <td>43.744734</td>\n      <td>-79.239476</td>\n    </tr>\n    <tr>\n      <th>6</th>\n      <td>M1K</td>\n      <td>Scarborough</td>\n      <td>East Birchmount Park,Ionview,Kennedy Park</td>\n      <td>43.727929</td>\n      <td>-79.262029</td>\n    </tr>\n    <tr>\n      <th>7</th>\n      <td>M1L</td>\n      <td>Scarborough</td>\n      <td>Clairlea,Golden Mile,Oakridge</td>\n      <td>43.711112</td>\n      <td>-79.284577</td>\n    </tr>\n    <tr>\n      <th>8</th>\n      <td>M1M</td>\n      <td>Scarborough</td>\n      <td>Cliffcrest,Cliffside,Scarborough Village West</td>\n      <td>43.716316</td>\n      <td>-79.239476</td>\n    </tr>\n    <tr>\n      <th>9</th>\n      <td>M1N</td>\n      <td>Scarborough</td>\n      <td>Birch Cliff,Cliffside West</td>\n      <td>43.692657</td>\n      <td>-79.264848</td>\n    </tr>\n  </tbody>\n</table>\n</div>", 
                        "text/plain": "  Postcode      Borough                                   Neighborhood  \\\n0      M1B  Scarborough                                  Rouge,Malvern   \n1      M1C  Scarborough           Highland Creek,Rouge Hill,Port Union   \n2      M1E  Scarborough                Guildwood,Morningside,West Hill   \n3      M1G  Scarborough                                         Woburn   \n4      M1H  Scarborough                                      Cedarbrae   \n5      M1J  Scarborough                            Scarborough Village   \n6      M1K  Scarborough      East Birchmount Park,Ionview,Kennedy Park   \n7      M1L  Scarborough                  Clairlea,Golden Mile,Oakridge   \n8      M1M  Scarborough  Cliffcrest,Cliffside,Scarborough Village West   \n9      M1N  Scarborough                     Birch Cliff,Cliffside West   \n\n    Latitude  Longitude  \n0  43.806686 -79.194353  \n1  43.784535 -79.160497  \n2  43.763573 -79.188711  \n3  43.770992 -79.216917  \n4  43.773136 -79.239476  \n5  43.744734 -79.239476  \n6  43.727929 -79.262029  \n7  43.711112 -79.284577  \n8  43.716316 -79.239476  \n9  43.692657 -79.264848  "
                    }, 
                    "output_type": "execute_result"
                }
            ], 
            "source": "neighborhoods.head(10)"
        }, 
        {
            "execution_count": null, 
            "cell_type": "code", 
            "metadata": {}, 
            "outputs": [], 
            "source": ""
        }
    ], 
    "metadata": {
        "kernelspec": {
            "display_name": "Python 3.5", 
            "name": "python3", 
            "language": "python"
        }, 
        "language_info": {
            "mimetype": "text/x-python", 
            "nbconvert_exporter": "python", 
            "version": "3.5.5", 
            "name": "python", 
            "file_extension": ".py", 
            "pygments_lexer": "ipython3", 
            "codemirror_mode": {
                "version": 3, 
                "name": "ipython"
            }
        }
    }, 
    "nbformat": 4
}